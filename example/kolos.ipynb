{
 "cells": [
  {
   "cell_type": "markdown",
   "metadata": {},
   "source": [
    "# Zadanie 1"
   ]
  },
  {
   "cell_type": "markdown",
   "metadata": {},
   "source": [
    "Oblicz  \n",
    "Zadanie tutaj   \n",
    "Program powinien drukować wyniki częściowe z dokładnością do 3 miejsc po przecinku. W przypadku błędu program generuje napis `------`.  \n",
    "Wynik końcowy wyświetl z dokładnością do 1 miejsca po przecinku.  "
   ]
  },
  {
   "cell_type": "code",
   "execution_count": null,
   "metadata": {},
   "outputs": [],
   "source": []
  },
  {
   "cell_type": "markdown",
   "metadata": {},
   "source": [
    "# Zadanie 2"
   ]
  },
  {
   "cell_type": "markdown",
   "metadata": {},
   "source": [
    "### **Zadanie: Analiza wyników egzaminu [40]**  \n",
    "\n",
    "Dane o wynikach matury z matematyki są przechowywane jako słownik w formacie:  \n",
    "\n",
    "```python\n",
    "wyniki = {\n",
    "    \"Jan Kowalski\": 45,\n",
    "    \"Anna Nowak\": 85,\n",
    "    \"Piotr Malinowski\": 29,\n",
    "    \"Maria Zielinska\": 76,\n",
    "    \"Tomasz Lewandowski\": 50\n",
    "}\n",
    "```\n",
    "Gdzie:  \n",
    "- **klucz** to `\"imię nazwisko\"` ucznia,  \n",
    "- **wartość** to uzyskany wynik z egzaminu (liczba całkowita z zakresu 0-100).  \n",
    "\n",
    "##### **Napisz funkcję, która wykona następujące operacje:**  \n",
    "1. **Policzy i wyświetli liczbę uczniów, którzy zdali egzamin** (zdanie oznacza uzyskanie co najmniej **30 punktów**).  \n",
    "2. **Znajdzie i wypisze ucznia, który uzyskał najwyższy wynik** (jeśli jest kilku, wyświetl dowolnego z nich).  \n",
    "3. **Obliczy i wyświetli średni wynik wszystkich uczniów.**  \n",
    "4. Zadanie tutaj\n",
    "\n",
    "##### **Przykładowe dane wyjściowe:**  \n",
    "```\n",
    "Liczba uczniów, którzy zdali egzamin: 4  \n",
    "Najlepszy wynik uzyskał: Anna Nowak (85 pkt)  \n",
    "Średni wynik egzaminu: 57  \n",
    "```\n",
    "\n",
    "##### **Wymagania techniczne:**  \n",
    "- Program powinien działać na słowniku przechowującym dane uczniów.  \n",
    "- Użyj **funkcji** do podziału programu na czytelne sekcje.  \n",
    "- Obsłuż sytuację, gdy użytkownik poda nazwisko ucznia, którego nie ma w bazie.  "
   ]
  },
  {
   "cell_type": "code",
   "execution_count": null,
   "metadata": {},
   "outputs": [],
   "source": []
  },
  {
   "cell_type": "markdown",
   "metadata": {},
   "source": [
    "# Zadanie 3"
   ]
  },
  {
   "cell_type": "markdown",
   "metadata": {},
   "source": [
    "#### **Zadanie: Największy wspólny dzielnik [25]**  \n",
    "\n",
    "##### **Treść zadania:**  \n",
    "Dane są dwie liczby całkowite **a** i **b**. Napisz program, który:  \n",
    "\n",
    "1. **Wczyta od użytkownika dwie liczby całkowite a i b**.  \n",
    "2. **Program powinien obsłużyć sytuację, gdy jedna z liczb jest równa 0, oraz poinformować o tym użytkownika.**\n",
    "2. **Obliczy ich największy wspólny dzielnik (NWD) przy użyciu Algorytmu Euklidesa**.  \n",
    "3. **Wypisze wynik na ekranie**.  \n",
    "\n",
    "##### **Przykładowe dane wejściowe:**  \n",
    "```\n",
    "Podaj pierwszą liczbę: 48  \n",
    "Podaj drugą liczbę: 18  \n",
    "```\n",
    "\n",
    "##### **Przykładowe dane wyjściowe:**  \n",
    "```\n",
    "NWD(48, 18) = 6\n",
    "```\n",
    "\n",
    "##### **Wymagania techniczne:**  \n",
    "- Program powinien być podzielony na funkcje, np. `nwd(a, b)`.  \n",
    "- Implementacja NWD powinna wykorzystywać **Algorytm Euklidesa** (wersja iteracyjna lub rekurencyjna).  \n",
    "- Obsłuż sytuację, gdy użytkownik poda liczbę ujemną lub 0."
   ]
  },
  {
   "cell_type": "code",
   "execution_count": null,
   "metadata": {},
   "outputs": [],
   "source": []
  },
  {
   "cell_type": "markdown",
   "metadata": {},
   "source": [
    "# Zadanie 4"
   ]
  },
  {
   "cell_type": "markdown",
   "metadata": {},
   "source": [
    "#### **Zadanie: Zarządzanie kontami bankowymi – Programowanie obiektowe**  \n",
    "\n",
    "##### **Treść zadania:**  \n",
    "Napisz program, który symuluje działanie prostego systemu bankowego. W tym celu utwórz klasę **KontoBankowe**, która będzie zawierać:  \n",
    "\n",
    "1. **Atrybuty:**  \n",
    "   - `wlasciciel` – imię i nazwisko właściciela konta,  \n",
    "   - `saldo` – aktualny stan konta (domyślnie 0).  \n",
    "\n",
    "2. **Metody:**  \n",
    "   - `wplata(kwota)` – zwiększa saldo konta o podaną kwotę.  \n",
    "   - `wyplata(kwota)` – zmniejsza saldo konta o podaną kwotę (jeśli jest wystarczająca ilość środków).  \n",
    "   - `wyswietl_saldo()` – wypisuje aktualne saldo konta.  \n",
    "\n",
    "Zadanie tutaj\n",
    "\n",
    "##### **Przykładowe użycie klasy:**  \n",
    "```python\n",
    "konto1 = KontoBankowe(\"Jan Kowalski\", 1000)\n",
    "konto2 = KontoBankowe(\"Anna Nowak\", 500)\n",
    "\n",
    "konto1.wplata(200)\n",
    "konto1.wyswietl_saldo()  # Powinno wyświetlić: Saldo konta Jana Kowalskiego: 1200 zł\n",
    "\n",
    "konto1.wyplata(300)\n",
    "konto1.wyswietl_saldo()  # Powinno wyświetlić: Saldo konta Jana Kowalskiego: 900 zł\n",
    "```\n",
    "\n",
    "##### **Przykładowe dane wyjściowe:**  \n",
    "```\n",
    "Saldo konta Jana Kowalskiego: 1200 zł  \n",
    "Saldo konta Jana Kowalskiego: 900 zł  \n",
    "```\n",
    "\n",
    "##### **Wymagania techniczne:**  \n",
    "- Użyj **klas i obiektów** do reprezentowania kont bankowych.  \n",
    "- Obsłuż sytuację, gdy użytkownik próbuje wypłacić więcej, niż ma na koncie.  \n"
   ]
  },
  {
   "cell_type": "code",
   "execution_count": null,
   "metadata": {},
   "outputs": [],
   "source": []
  }
 ],
 "metadata": {
  "language_info": {
   "name": "python"
  }
 },
 "nbformat": 4,
 "nbformat_minor": 2
}
